{
 "cells": [
  {
   "cell_type": "markdown",
   "id": "b3206975",
   "metadata": {},
   "source": [
    "# Hi how are you"
   ]
  },
  {
   "cell_type": "markdown",
   "id": "c3d8271d",
   "metadata": {},
   "source": [
    "## I am fine"
   ]
  }
 ],
 "metadata": {
  "kernelspec": {
   "display_name": "Python 3 (ipykernel)",
   "language": "python",
   "name": "python3"
  },
  "language_info": {
   "codemirror_mode": {
    "name": "ipython",
    "version": 3
   },
   "file_extension": ".py",
   "mimetype": "text/x-python",
   "name": "python",
   "nbconvert_exporter": "python",
   "pygments_lexer": "ipython3",
   "version": "3.10.9"
  }
 },
 "nbformat": 4,
 "nbformat_minor": 5
}
